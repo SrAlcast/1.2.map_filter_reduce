{
 "cells": [
  {
   "cell_type": "markdown",
   "metadata": {},
   "source": [
    "\n",
    "<div style=\"text-align: center;\">\n",
    "  <img src=\"https://github.com/Hack-io-Data/Imagenes/blob/main/01-LogosHackio/logo_celeste@4x.png?raw=true\" alt=\"esquema\" />\n",
    "</div>\n"
   ]
  },
  {
   "cell_type": "markdown",
   "metadata": {},
   "source": [
    "# Laboratorio de Python: map(), filter() y reduce()"
   ]
  },
  {
   "cell_type": "markdown",
   "metadata": {},
   "source": [
    "## Ejercicio 1. map ()"
   ]
  },
  {
   "cell_type": "markdown",
   "metadata": {},
   "source": [
    "1.1. Dada una lista de números, obtén una nueva lista con el doble de cada valor.\n",
    "\n",
    "1.2. Genera una función que al recibir una frase devuelva una lista con la longitud de cada palabra. Nota: también se puede solucionar con una `lambda`. \n",
    "\n",
    "1.3. Genera una función que convierta una lista de tuplas a una lista de strings, por ejemplo: \n",
    "\n",
    "```python\n",
    "lista_de_tuplas = [(\"Juan\", \"Pérez\"),(\"María\", \"García\"),(\"Luis\", \"Martínez\"),(\"Ana\", \"López\"),(\"Carlos\", \"Sánchez\"),(\"Elena\", \"Fernández\"),(\"Miguel\", \"González\")]\n",
    "\n",
    "\n",
    "# output esperado\n",
    "['Juan Pérez',\n",
    "'María García',\n",
    "'Luis Martínez',\n",
    "'Ana López',\n",
    "'Carlos Sánchez',\n",
    "'Elena Fernández',\n",
    "'Miguel González']\n",
    "```\n",
    "\n",
    "1.4. Crea una función que calcule la diferencia entre los valores correspondientes de dos listas. Debrás restar los elementos de las dos listas, devolviendo una nueva lista con las diferencias. Por ejemplo: \n",
    "\n",
    "```python\n",
    "# input\n",
    "numeros = [4, 8, 15, 16, 23, 42]\n",
    "numeros_2 = [5, 12, 37, 8, 23, 45]\n",
    "\n",
    "# output\n",
    "[1, 4, 22, -8, 0, 3]\n",
    "```\n",
    "\n",
    "1.5. Genera una función la cual, para un conjunto de caracteres, devuelva una lista de tuplas con cada letra en mayúsculas y minúsculas. Importante, no puede haber dos tuplas que contengan las mismas letras. Ejemplo:\n",
    "\n",
    "```python\n",
    "conjunto_caracteres = {'a', 'b', 'E', 'f', 'a', 'i', 'o', 'U', 'a'}\n",
    "\n",
    "# output\n",
    "{('A', 'a'),\n",
    " ('B', 'b'),\n",
    " ('E', 'e'),\n",
    " ('F', 'f'),\n",
    " ('I', 'i'),\n",
    " ('O', 'o'),\n",
    " ('U', 'u')}\n",
    "```\n",
    "\n",
    " "
   ]
  },
  {
   "cell_type": "code",
   "execution_count": 6,
   "metadata": {},
   "outputs": [
    {
     "data": {
      "text/plain": [
       "[24, 5, 40, 12, 34, 19, 48, 35, 33, 14]"
      ]
     },
     "execution_count": 6,
     "metadata": {},
     "output_type": "execute_result"
    }
   ],
   "source": [
    "import random\n",
    "listarandom=random.sample(range(1,50),10)\n",
    "\n",
    "listarandom"
   ]
  },
  {
   "cell_type": "code",
   "execution_count": 8,
   "metadata": {},
   "outputs": [
    {
     "data": {
      "text/plain": [
       "[48, 10, 80, 24, 68, 38, 96, 70, 66, 28]"
      ]
     },
     "execution_count": 8,
     "metadata": {},
     "output_type": "execute_result"
    }
   ],
   "source": [
    "def duplicar_valor(numero):\n",
    "    return numero*2\n",
    "\n",
    "listaduplicada= list(map(duplicar_valor,listarandom))\n",
    "listaduplicada"
   ]
  },
  {
   "cell_type": "code",
   "execution_count": 24,
   "metadata": {},
   "outputs": [
    {
     "data": {
      "text/plain": [
       "[('hola', 4), ('ke', 2), ('ase', 3)]"
      ]
     },
     "execution_count": 24,
     "metadata": {},
     "output_type": "execute_result"
    }
   ],
   "source": [
    "\n",
    "def longitud_palabra(palabras):\n",
    "    tupla=palabras,len(palabras)\n",
    "    return tupla\n",
    "longitud_palabra(entradatest)\n",
    "\n",
    "texto=input(\"ingresa una frase:\")\n",
    "texto_splitea=texto.split()\n",
    "list(map(longitud_palabra,texto_splitea))\n"
   ]
  },
  {
   "cell_type": "code",
   "execution_count": 52,
   "metadata": {},
   "outputs": [
    {
     "data": {
      "text/plain": [
       "['Juan Pérez',\n",
       " 'María García',\n",
       " 'Luis Martínez',\n",
       " 'Ana López',\n",
       " 'Carlos Sánchez',\n",
       " 'Elena Fernández',\n",
       " 'Miguel González']"
      ]
     },
     "execution_count": 52,
     "metadata": {},
     "output_type": "execute_result"
    }
   ],
   "source": [
    "lista_de_tuplas = [(\"Juan\", \"Pérez\"),(\"María\", \"García\"),(\"Luis\", \"Martínez\"),(\"Ana\", \"López\"),(\"Carlos\", \"Sánchez\"),(\"Elena\", \"Fernández\"),(\"Miguel\", \"González\")]\n",
    "\n",
    "def unir_elementos_tupla(tupla):\n",
    "    return tupla[0]+\" \"+tupla[1]\n",
    "        \n",
    "list(map(unir_elementos_tupla,lista_de_tuplas))"
   ]
  },
  {
   "cell_type": "code",
   "execution_count": 30,
   "metadata": {},
   "outputs": [
    {
     "data": {
      "text/plain": [
       "[1, 4, 22, -8, 0, 3]"
      ]
     },
     "execution_count": 30,
     "metadata": {},
     "output_type": "execute_result"
    }
   ],
   "source": [
    "numeros = [4, 8, 15, 16, 23, 42]\n",
    "numeros_2 = [5, 12, 37, 8, 23, 45]\n",
    "\n",
    "def resta_listas(lista,lista2):\n",
    "    return lista2-lista\n",
    "\n",
    "list(map(resta_listas,numeros,numeros_2))"
   ]
  },
  {
   "cell_type": "code",
   "execution_count": 47,
   "metadata": {},
   "outputs": [
    {
     "data": {
      "text/plain": [
       "[('U', 'u'),\n",
       " ('B', 'b'),\n",
       " ('O', 'o'),\n",
       " ('A', 'a'),\n",
       " ('F', 'f'),\n",
       " ('E', 'e'),\n",
       " ('I', 'i')]"
      ]
     },
     "execution_count": 47,
     "metadata": {},
     "output_type": "execute_result"
    }
   ],
   "source": [
    "conjunto_caracteres = ['a', 'b', 'E', 'f', 'a', 'i', 'o', 'U', 'a']\n",
    "set_caracteres = set(conjunto_caracteres)\n",
    "grupo_test = \"a\"\n",
    "\n",
    "def creador_tuplas(letra):\n",
    "    tupla = (letra.upper(), letra.lower())\n",
    "    return tupla\n",
    "\n",
    "creador_tuplas(grupo_test)\n",
    "\n",
    "list(map(creador_tuplas,set_caracteres))"
   ]
  },
  {
   "cell_type": "markdown",
   "metadata": {},
   "source": [
    "## Ejercicio 2. Filter ()"
   ]
  },
  {
   "cell_type": "markdown",
   "metadata": {},
   "source": [
    "2.1. Crea una función que devuelva las palabras de una lista que comienzan con una letra específica. Por ejemplo:\n",
    "\n",
    "```python\n",
    "# input\n",
    "frase = 'Incluso la persona más pequeña puede cambiar el curso del futuro.'\n",
    "letra = 'p'\n",
    "\n",
    "# output\n",
    "['persona', 'pequeña', 'puede']\n",
    "```\n",
    "\n",
    "2.2. Para una lista con elementos tipo *integer* y *string*, obtén una nueva lista sólo con los valores de tipo *integer*.\n",
    "\n",
    "2.3. Escribe una función que tome una lista de nombres de mascotas como parámetro y devuelva una nueva lista excluyendo ciertas mascotas prohibidas en España. La lista de mascotas a excluir es [\"Mapache\", \"Tigre\", \"Serpiente Pitón\", \"Cocodrilo\", \"Oso\"].\n",
    "\n",
    "```python\n",
    "#input\n",
    "mascotas = ['Perro', 'Tigre', 'Gato', 'Oso', 'Erizo']\n",
    "\n",
    "# output\n",
    "['Perro', 'Gato', 'Erizo']\n",
    "```\n",
    "2.4. Escribe un programa en Python que cree una lista de diccionarios que contenga información de estudiantes (nombre, edad, calificación) y use la función filter para extraer a los estudiantes con una calificación mayor o igual a 90."
   ]
  },
  {
   "cell_type": "code",
   "execution_count": 67,
   "metadata": {},
   "outputs": [
    {
     "data": {
      "text/plain": [
       "['persona', 'pequeña', 'puede']"
      ]
     },
     "execution_count": 67,
     "metadata": {},
     "output_type": "execute_result"
    }
   ],
   "source": [
    "frase = 'Incluso la persona más pequeña puede cambiar el curso del futuro.'\n",
    "letratest = 'p'\n",
    "\n",
    "lista_de_palabra=frase.split()\n",
    "\n",
    "def detectorletra(lista):\n",
    "    if letra in lista:\n",
    "         return True\n",
    "\n",
    "list(filter(detectorletra,lista_de_palabra))"
   ]
  },
  {
   "cell_type": "code",
   "execution_count": 68,
   "metadata": {},
   "outputs": [
    {
     "data": {
      "text/plain": [
       "[1, 3, 5, 7]"
      ]
     },
     "execution_count": 68,
     "metadata": {},
     "output_type": "execute_result"
    }
   ],
   "source": [
    "lista_mixta = [1, 'hola', 3, 'mundo', 5, 'python', 7]\n",
    "\n",
    "def es_entero(x):\n",
    "    return isinstance(x, int)\n",
    "\n",
    "list(filter(es_entero, lista_mixta))\n",
    "\n"
   ]
  },
  {
   "cell_type": "code",
   "execution_count": 77,
   "metadata": {},
   "outputs": [
    {
     "data": {
      "text/plain": [
       "['Perro', 'Gato', 'Erizo']"
      ]
     },
     "execution_count": 77,
     "metadata": {},
     "output_type": "execute_result"
    }
   ],
   "source": [
    "mascotas = ['Perro', 'Tigre', 'Gato', 'Oso', 'Erizo']\n",
    "\n",
    "animales_prohibidos=[\"Mapache\", \"Tigre\", \"Serpiente Pitón\", \"Cocodrilo\", \"Oso\"]\n",
    "\n",
    "def es_peligroso(lista):\n",
    "    if lista not in animales_prohibidos:\n",
    "        return True\n",
    "    \n",
    "list(filter(es_peligroso,mascotas))"
   ]
  },
  {
   "cell_type": "code",
   "execution_count": null,
   "metadata": {},
   "outputs": [],
   "source": [
    "Expediente={nombre:Juan, }"
   ]
  },
  {
   "cell_type": "markdown",
   "metadata": {},
   "source": [
    "## Ejercicio 3. Reduce ()"
   ]
  },
  {
   "cell_type": "markdown",
   "metadata": {},
   "source": [
    "3.1 Crea una función que tome una lista de dígitos y devuelva el número correspondiente. Por ejemplo, [5,7,2] corresponde al número quinientos setenta y dos (572).\n",
    "\n",
    "3.2. Dada una lista de números enteros, obtén el producto total de los valores de dicha lista\n",
    "\n",
    "3.3. Concatena una lista de palabras. Por ejemplo:\n",
    "\n",
    "```python\n",
    "# input\n",
    "lista_int_str = ['Un', 'mago', 'nunca']\n",
    "\n",
    "# output\n",
    "'Unmagonunca'\n",
    "```\n",
    "\n",
    "3.4. Calcula la diferencia total en los valores de una lista, es decir, crea un programa que vaya restando todos sus elementos.\n"
   ]
  },
  {
   "cell_type": "code",
   "execution_count": 89,
   "metadata": {},
   "outputs": [
    {
     "name": "stdout",
     "output_type": "stream",
     "text": [
      "572\n"
     ]
    }
   ],
   "source": [
    "from functools import reduce\n",
    "\n",
    "lista_numeritos=[5,7,2]\n",
    "\n",
    "def juntarnumeros(n1,n2):\n",
    "    return str(n1)+str(n2)\n",
    "\n",
    "resultado = reduce(juntarnumeros, lista_numeritos)\n",
    "\n",
    "print(resultado)\n"
   ]
  },
  {
   "cell_type": "code",
   "execution_count": 85,
   "metadata": {},
   "outputs": [
    {
     "name": "stdout",
     "output_type": "stream",
     "text": [
      "8\n"
     ]
    }
   ],
   "source": [
    "lista_num=(1,2,2,1,2)\n",
    "\n",
    "def multiplicar(num1,num2):\n",
    "    return num1*num2\n",
    "\n",
    "resultado = reduce(multiplicar, lista_num)\n",
    "\n",
    "print(resultado)"
   ]
  },
  {
   "cell_type": "code",
   "execution_count": 87,
   "metadata": {},
   "outputs": [
    {
     "name": "stdout",
     "output_type": "stream",
     "text": [
      "Unmagonunca\n"
     ]
    }
   ],
   "source": [
    "lista_int_str = ['Un', 'mago', 'nunca']\n",
    "\n",
    "def concatenar(x, y):\n",
    "    return x + '' + y\n",
    "\n",
    "resultado = reduce(concatenar, lista_int_str)\n",
    "\n",
    "print(resultado)\n"
   ]
  },
  {
   "cell_type": "code",
   "execution_count": 90,
   "metadata": {},
   "outputs": [
    {
     "name": "stdout",
     "output_type": "stream",
     "text": [
      "-4\n"
     ]
    }
   ],
   "source": [
    "lista_numeritos=[5,7,2]\n",
    "\n",
    "def restar(n1,n2):\n",
    "    return n1-n2\n",
    "\n",
    "resultado = reduce(restar, lista_numeritos)\n",
    "\n",
    "print(resultado)"
   ]
  },
  {
   "cell_type": "markdown",
   "metadata": {},
   "source": [
    "## Ejercicio 4. Ejercicios combinando las funciones"
   ]
  },
  {
   "cell_type": "markdown",
   "metadata": {},
   "source": [
    "4.1. Dada una lista de números, filtra los números positivos y calcula su promedio.\n",
    "\n",
    "4.2. Dada una lista de palabras, filtra las palabras que empiezan con una vocal, conviértelas a mayúsculas, y luego concaténalas en una sola cadena. \n",
    "\n",
    "4.3. Dada una lista numérica, filtra los números impares y calcula el producto de todos ellos \n",
    "\n",
    "4.4. Dada una lista de palabras, filtra las que contienen la letra 'a' y cuenta cuántas hay."
   ]
  },
  {
   "cell_type": "code",
   "execution_count": 115,
   "metadata": {},
   "outputs": [
    {
     "name": "stdout",
     "output_type": "stream",
     "text": [
      "[7, 10, 14, 4, 3, 17, 6]\n"
     ]
    },
    {
     "data": {
      "text/plain": [
       "8.714285714285714"
      ]
     },
     "execution_count": 115,
     "metadata": {},
     "output_type": "execute_result"
    }
   ],
   "source": [
    "import random\n",
    "listarandom=random.sample(range(-20,20),10)\n",
    "\n",
    "listarandom\n",
    "\n",
    "def es_positivo(num):\n",
    "    return num>0\n",
    "def promedio(n1,n2):\n",
    "    return n1*n2\n",
    "\n",
    "lista_positivos=list(filter(es_positivo,listarandom))\n",
    "suma=reduce(lambda n1,n2:n1+n2, lista_positivos)\n",
    "promedio=suma/len(lista_positivos)\n",
    "print(lista_positivos)\n",
    "promedio"
   ]
  },
  {
   "cell_type": "code",
   "execution_count": 107,
   "metadata": {},
   "outputs": [
    {
     "data": {
      "text/plain": [
       "'AVEELEFANTEOSOUNIVERSOIGUANA'"
      ]
     },
     "execution_count": 107,
     "metadata": {},
     "output_type": "execute_result"
    }
   ],
   "source": [
    "lista_palabras = [\"ave\", \"elefante\", \"casa\", \"oso\", \"universo\", \"luz\", \"iguana\"]\n",
    "\n",
    "palabras_con_vocal = filter(lambda palabra: palabra[0].lower() in 'aeiou', lista_palabras)\n",
    "    \n",
    "palabras_mayusculas = map(lambda palabra: palabra.upper(), palabras_con_vocal)\n",
    "    \n",
    "resultado = reduce(lambda x, y: x + y, palabras_mayusculas, \"\")\n",
    "\n",
    "resultado"
   ]
  },
  {
   "cell_type": "code",
   "execution_count": 111,
   "metadata": {},
   "outputs": [
    {
     "data": {
      "text/plain": [
       "345"
      ]
     },
     "execution_count": 111,
     "metadata": {},
     "output_type": "execute_result"
    }
   ],
   "source": [
    "lista_numeros = [1, 2, 3, 4, 5, 6, 7, 8, 9, 10] \n",
    "\n",
    "def es_impar(num):\n",
    "    return num % 2 != 0\n",
    "\n",
    "numeros_impares = list(filter(es_impar, numeros))\n",
    "\n",
    "producto_numeros=reduce(lambda x, y: x * y, numeros_impares)\n",
    "\n",
    "producto_numeros\n"
   ]
  },
  {
   "cell_type": "code",
   "execution_count": 114,
   "metadata": {},
   "outputs": [
    {
     "name": "stdout",
     "output_type": "stream",
     "text": [
      "Palabras que contienen 'a': ['jamon', 'manzana']\n",
      "Cantidad de palabras que contienen 'a': 2\n"
     ]
    }
   ],
   "source": [
    "palabras = [\"jamon\", \"crudo\", \"manzana\", \"sillón\"]\n",
    "\n",
    "def contiene_a(palabra):\n",
    "    return 'a' in palabra\n",
    "\n",
    "palabras_con_a = list(filter(contiene_a, palabras))\n",
    "\n",
    "cantidad = len(palabras_con_a)\n",
    "\n",
    "print(\"Palabras que contienen 'a':\", palabras_con_a)\n",
    "print(\"Cantidad de palabras que contienen 'a':\", cantidad)\n"
   ]
  }
 ],
 "metadata": {
  "kernelspec": {
   "display_name": "base",
   "language": "python",
   "name": "python3"
  },
  "language_info": {
   "codemirror_mode": {
    "name": "ipython",
    "version": 3
   },
   "file_extension": ".py",
   "mimetype": "text/x-python",
   "name": "python",
   "nbconvert_exporter": "python",
   "pygments_lexer": "ipython3",
   "version": "3.12.7"
  }
 },
 "nbformat": 4,
 "nbformat_minor": 2
}
